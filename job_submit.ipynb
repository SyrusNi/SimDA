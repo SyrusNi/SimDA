{
 "cells": [
  {
   "cell_type": "code",
   "execution_count": 3,
   "metadata": {},
   "outputs": [],
   "source": [
    "import argparse\n",
    "import os\n",
    "import uuid\n",
    "from pathlib import Path\n",
    "\n",
    "#import main as classification\n",
    "import submitit"
   ]
  },
  {
   "cell_type": "code",
   "execution_count": 4,
   "metadata": {},
   "outputs": [
    {
     "ename": "TypeError",
     "evalue": "AutoExecutor.__init__() missing 1 required positional argument: 'folder'",
     "output_type": "error",
     "traceback": [
      "\u001b[0;31m---------------------------------------------------------------------------\u001b[0m",
      "\u001b[0;31mTypeError\u001b[0m                                 Traceback (most recent call last)",
      "Cell \u001b[0;32mIn[4], line 1\u001b[0m\n\u001b[0;32m----> 1\u001b[0m executor \u001b[38;5;241m=\u001b[39m \u001b[43msubmitit\u001b[49m\u001b[38;5;241;43m.\u001b[39;49m\u001b[43mAutoExecutor\u001b[49m\u001b[43m(\u001b[49m\u001b[43m)\u001b[49m\n",
      "\u001b[0;31mTypeError\u001b[0m: AutoExecutor.__init__() missing 1 required positional argument: 'folder'"
     ]
    }
   ],
   "source": [
    "executor = submitit.AutoExecutor('./try')\n",
    "executor.update_parameters()\n",
    "executor(func, parameter)"
   ]
  },
  {
   "cell_type": "code",
   "execution_count": 21,
   "metadata": {},
   "outputs": [
    {
     "name": "stderr",
     "output_type": "stream",
     "text": [
      "/vhome/nishengding/anaconda3/envs/SimDA/lib/python3.10/site-packages/submitit/auto/auto.py:23: UserWarning: Setting 'qos' is deprecated. Use 'slurm_qos' instead.\n",
      "  warnings.warn(f\"Setting '{arg}' is deprecated. Use '{new_arg}' instead.\")\n"
     ]
    },
    {
     "name": "stdout",
     "output_type": "stream",
     "text": [
      "12\n"
     ]
    }
   ],
   "source": [
    "import submitit\n",
    "from operator import add\n",
    "executor = submitit.AutoExecutor(folder=\"log_test\")\n",
    "# 3 * 2 = 6 tasks\n",
    "executor.update_parameters(mem_gb = 0.1,\n",
    "                           gpus_per_node = 1,\n",
    "                           tasks_per_node = 1,\n",
    "                           cpus_per_task = 1, \n",
    "                           nodes=1, \n",
    "                           timeout_min=1, \n",
    "                           slurm_partition=\"fvl\", \n",
    "                           qos='default')\n",
    "#executor.update_parameters(name=\"deit\")\n",
    "job = executor.submit(add, 5, 7)  # will compute add(5, 7)\n",
    "print(job.result())  # return [12, 12, 12, 12, 12, 12]"
   ]
  },
  {
   "cell_type": "code",
   "execution_count": 22,
   "metadata": {},
   "outputs": [
    {
     "data": {
      "text/plain": [
       "12"
      ]
     },
     "execution_count": 22,
     "metadata": {},
     "output_type": "execute_result"
    }
   ],
   "source": [
    "job.result()"
   ]
  }
 ],
 "metadata": {
  "kernelspec": {
   "display_name": "SimDA",
   "language": "python",
   "name": "python3"
  },
  "language_info": {
   "codemirror_mode": {
    "name": "ipython",
    "version": 3
   },
   "file_extension": ".py",
   "mimetype": "text/x-python",
   "name": "python",
   "nbconvert_exporter": "python",
   "pygments_lexer": "ipython3",
   "version": "3.10.14"
  }
 },
 "nbformat": 4,
 "nbformat_minor": 2
}
