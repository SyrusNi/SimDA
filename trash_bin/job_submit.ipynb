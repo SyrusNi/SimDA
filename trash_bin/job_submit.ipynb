{
 "cells": [
  {
   "cell_type": "code",
   "execution_count": 1,
   "metadata": {},
   "outputs": [
    {
     "name": "stdout",
     "output_type": "stream",
     "text": [
      "72764\n"
     ]
    },
    {
     "ename": "UncompletedJobError",
     "evalue": "Job 72764 (task: 0) with path /vhome/nishengding/projects/SimDA/log_test/72764_0_result.pkl\nhas not produced any output (state: FAILED)\nError stream produced:\n----------------------------------------\nsrun: error: fvl03: task 0: User defined signal 2\nsrun: Terminating StepId=72764.0\nslurmstepd: error: *** STEP 72764.0 ON fvl03 CANCELLED AT 2024-10-06T17:36:47 ***\nsrun: error: fvl03: task 1: User defined signal 2\n",
     "output_type": "error",
     "traceback": [
      "\u001b[0;31m---------------------------------------------------------------------------\u001b[0m",
      "\u001b[0;31mUncompletedJobError\u001b[0m                       Traceback (most recent call last)",
      "Cell \u001b[0;32mIn[1], line 17\u001b[0m\n\u001b[1;32m     15\u001b[0m job \u001b[38;5;241m=\u001b[39m executor\u001b[38;5;241m.\u001b[39msubmit(add, \u001b[38;5;241m5\u001b[39m, \u001b[38;5;241m7\u001b[39m)  \u001b[38;5;66;03m# will compute add(5, 7)\u001b[39;00m\n\u001b[1;32m     16\u001b[0m \u001b[38;5;28mprint\u001b[39m(job\u001b[38;5;241m.\u001b[39mjob_id)\n\u001b[0;32m---> 17\u001b[0m \u001b[38;5;28mprint\u001b[39m(\u001b[43mjob\u001b[49m\u001b[38;5;241;43m.\u001b[39;49m\u001b[43mresult\u001b[49m\u001b[43m(\u001b[49m\u001b[43m)\u001b[49m)  \u001b[38;5;66;03m# return [12, 12, 12, 12, 12, 12]\u001b[39;00m\n",
      "File \u001b[0;32m~/anaconda3/envs/SimDA/lib/python3.10/site-packages/submitit/core/core.py:266\u001b[0m, in \u001b[0;36mJob.result\u001b[0;34m(self)\u001b[0m\n\u001b[1;32m    265\u001b[0m \u001b[38;5;28;01mdef\u001b[39;00m \u001b[38;5;21mresult\u001b[39m(\u001b[38;5;28mself\u001b[39m) \u001b[38;5;241m-\u001b[39m\u001b[38;5;241m>\u001b[39m R:\n\u001b[0;32m--> 266\u001b[0m     r \u001b[38;5;241m=\u001b[39m \u001b[38;5;28;43mself\u001b[39;49m\u001b[38;5;241;43m.\u001b[39;49m\u001b[43mresults\u001b[49m\u001b[43m(\u001b[49m\u001b[43m)\u001b[49m\n\u001b[1;32m    267\u001b[0m     \u001b[38;5;28;01massert\u001b[39;00m \u001b[38;5;129;01mnot\u001b[39;00m \u001b[38;5;28mself\u001b[39m\u001b[38;5;241m.\u001b[39m_sub_jobs, \u001b[38;5;124m\"\u001b[39m\u001b[38;5;124mYou should use `results()` if your job has subtasks.\u001b[39m\u001b[38;5;124m\"\u001b[39m\n\u001b[1;32m    268\u001b[0m     \u001b[38;5;28;01mreturn\u001b[39;00m r[\u001b[38;5;241m0\u001b[39m]\n",
      "File \u001b[0;32m~/anaconda3/envs/SimDA/lib/python3.10/site-packages/submitit/core/core.py:287\u001b[0m, in \u001b[0;36mJob.results\u001b[0;34m(self)\u001b[0m\n\u001b[1;32m    284\u001b[0m \u001b[38;5;28mself\u001b[39m\u001b[38;5;241m.\u001b[39mwait()\n\u001b[1;32m    286\u001b[0m \u001b[38;5;28;01mif\u001b[39;00m \u001b[38;5;28mself\u001b[39m\u001b[38;5;241m.\u001b[39m_sub_jobs:\n\u001b[0;32m--> 287\u001b[0m     \u001b[38;5;28;01mreturn\u001b[39;00m [tp\u001b[38;5;241m.\u001b[39mcast(R, sub_job\u001b[38;5;241m.\u001b[39mresult()) \u001b[38;5;28;01mfor\u001b[39;00m sub_job \u001b[38;5;129;01min\u001b[39;00m \u001b[38;5;28mself\u001b[39m\u001b[38;5;241m.\u001b[39m_sub_jobs]\n\u001b[1;32m    289\u001b[0m outcome, result \u001b[38;5;241m=\u001b[39m \u001b[38;5;28mself\u001b[39m\u001b[38;5;241m.\u001b[39m_get_outcome_and_result()\n\u001b[1;32m    290\u001b[0m \u001b[38;5;28;01mif\u001b[39;00m outcome \u001b[38;5;241m==\u001b[39m \u001b[38;5;124m\"\u001b[39m\u001b[38;5;124merror\u001b[39m\u001b[38;5;124m\"\u001b[39m:\n",
      "File \u001b[0;32m~/anaconda3/envs/SimDA/lib/python3.10/site-packages/submitit/core/core.py:287\u001b[0m, in \u001b[0;36m<listcomp>\u001b[0;34m(.0)\u001b[0m\n\u001b[1;32m    284\u001b[0m \u001b[38;5;28mself\u001b[39m\u001b[38;5;241m.\u001b[39mwait()\n\u001b[1;32m    286\u001b[0m \u001b[38;5;28;01mif\u001b[39;00m \u001b[38;5;28mself\u001b[39m\u001b[38;5;241m.\u001b[39m_sub_jobs:\n\u001b[0;32m--> 287\u001b[0m     \u001b[38;5;28;01mreturn\u001b[39;00m [tp\u001b[38;5;241m.\u001b[39mcast(R, \u001b[43msub_job\u001b[49m\u001b[38;5;241;43m.\u001b[39;49m\u001b[43mresult\u001b[49m\u001b[43m(\u001b[49m\u001b[43m)\u001b[49m) \u001b[38;5;28;01mfor\u001b[39;00m sub_job \u001b[38;5;129;01min\u001b[39;00m \u001b[38;5;28mself\u001b[39m\u001b[38;5;241m.\u001b[39m_sub_jobs]\n\u001b[1;32m    289\u001b[0m outcome, result \u001b[38;5;241m=\u001b[39m \u001b[38;5;28mself\u001b[39m\u001b[38;5;241m.\u001b[39m_get_outcome_and_result()\n\u001b[1;32m    290\u001b[0m \u001b[38;5;28;01mif\u001b[39;00m outcome \u001b[38;5;241m==\u001b[39m \u001b[38;5;124m\"\u001b[39m\u001b[38;5;124merror\u001b[39m\u001b[38;5;124m\"\u001b[39m:\n",
      "File \u001b[0;32m~/anaconda3/envs/SimDA/lib/python3.10/site-packages/submitit/core/core.py:266\u001b[0m, in \u001b[0;36mJob.result\u001b[0;34m(self)\u001b[0m\n\u001b[1;32m    265\u001b[0m \u001b[38;5;28;01mdef\u001b[39;00m \u001b[38;5;21mresult\u001b[39m(\u001b[38;5;28mself\u001b[39m) \u001b[38;5;241m-\u001b[39m\u001b[38;5;241m>\u001b[39m R:\n\u001b[0;32m--> 266\u001b[0m     r \u001b[38;5;241m=\u001b[39m \u001b[38;5;28;43mself\u001b[39;49m\u001b[38;5;241;43m.\u001b[39;49m\u001b[43mresults\u001b[49m\u001b[43m(\u001b[49m\u001b[43m)\u001b[49m\n\u001b[1;32m    267\u001b[0m     \u001b[38;5;28;01massert\u001b[39;00m \u001b[38;5;129;01mnot\u001b[39;00m \u001b[38;5;28mself\u001b[39m\u001b[38;5;241m.\u001b[39m_sub_jobs, \u001b[38;5;124m\"\u001b[39m\u001b[38;5;124mYou should use `results()` if your job has subtasks.\u001b[39m\u001b[38;5;124m\"\u001b[39m\n\u001b[1;32m    268\u001b[0m     \u001b[38;5;28;01mreturn\u001b[39;00m r[\u001b[38;5;241m0\u001b[39m]\n",
      "File \u001b[0;32m~/anaconda3/envs/SimDA/lib/python3.10/site-packages/submitit/core/core.py:289\u001b[0m, in \u001b[0;36mJob.results\u001b[0;34m(self)\u001b[0m\n\u001b[1;32m    286\u001b[0m \u001b[38;5;28;01mif\u001b[39;00m \u001b[38;5;28mself\u001b[39m\u001b[38;5;241m.\u001b[39m_sub_jobs:\n\u001b[1;32m    287\u001b[0m     \u001b[38;5;28;01mreturn\u001b[39;00m [tp\u001b[38;5;241m.\u001b[39mcast(R, sub_job\u001b[38;5;241m.\u001b[39mresult()) \u001b[38;5;28;01mfor\u001b[39;00m sub_job \u001b[38;5;129;01min\u001b[39;00m \u001b[38;5;28mself\u001b[39m\u001b[38;5;241m.\u001b[39m_sub_jobs]\n\u001b[0;32m--> 289\u001b[0m outcome, result \u001b[38;5;241m=\u001b[39m \u001b[38;5;28;43mself\u001b[39;49m\u001b[38;5;241;43m.\u001b[39;49m\u001b[43m_get_outcome_and_result\u001b[49m\u001b[43m(\u001b[49m\u001b[43m)\u001b[49m\n\u001b[1;32m    290\u001b[0m \u001b[38;5;28;01mif\u001b[39;00m outcome \u001b[38;5;241m==\u001b[39m \u001b[38;5;124m\"\u001b[39m\u001b[38;5;124merror\u001b[39m\u001b[38;5;124m\"\u001b[39m:\n\u001b[1;32m    291\u001b[0m     job_exception \u001b[38;5;241m=\u001b[39m \u001b[38;5;28mself\u001b[39m\u001b[38;5;241m.\u001b[39mexception()\n",
      "File \u001b[0;32m~/anaconda3/envs/SimDA/lib/python3.10/site-packages/submitit/core/core.py:384\u001b[0m, in \u001b[0;36mJob._get_outcome_and_result\u001b[0;34m(self)\u001b[0m\n\u001b[1;32m    382\u001b[0m     \u001b[38;5;28;01melse\u001b[39;00m:\n\u001b[1;32m    383\u001b[0m         message\u001b[38;5;241m.\u001b[39mappend(\u001b[38;5;124mf\u001b[39m\u001b[38;5;124m\"\u001b[39m\u001b[38;5;124mNo output/error stream produced ! Check: \u001b[39m\u001b[38;5;132;01m{\u001b[39;00m\u001b[38;5;28mself\u001b[39m\u001b[38;5;241m.\u001b[39mpaths\u001b[38;5;241m.\u001b[39mstdout\u001b[38;5;132;01m}\u001b[39;00m\u001b[38;5;124m\"\u001b[39m)\n\u001b[0;32m--> 384\u001b[0m     \u001b[38;5;28;01mraise\u001b[39;00m utils\u001b[38;5;241m.\u001b[39mUncompletedJobError(\u001b[38;5;124m\"\u001b[39m\u001b[38;5;130;01m\\n\u001b[39;00m\u001b[38;5;124m\"\u001b[39m\u001b[38;5;241m.\u001b[39mjoin(message))\n\u001b[1;32m    385\u001b[0m \u001b[38;5;28;01mtry\u001b[39;00m:\n\u001b[1;32m    386\u001b[0m     output: tp\u001b[38;5;241m.\u001b[39mTuple[\u001b[38;5;28mstr\u001b[39m, tp\u001b[38;5;241m.\u001b[39mAny] \u001b[38;5;241m=\u001b[39m utils\u001b[38;5;241m.\u001b[39mpickle_load(\u001b[38;5;28mself\u001b[39m\u001b[38;5;241m.\u001b[39mpaths\u001b[38;5;241m.\u001b[39mresult_pickle)\n",
      "\u001b[0;31mUncompletedJobError\u001b[0m: Job 72764 (task: 0) with path /vhome/nishengding/projects/SimDA/log_test/72764_0_result.pkl\nhas not produced any output (state: FAILED)\nError stream produced:\n----------------------------------------\nsrun: error: fvl03: task 0: User defined signal 2\nsrun: Terminating StepId=72764.0\nslurmstepd: error: *** STEP 72764.0 ON fvl03 CANCELLED AT 2024-10-06T17:36:47 ***\nsrun: error: fvl03: task 1: User defined signal 2\n"
     ]
    }
   ],
   "source": [
    "import submitit\n",
    "from operator import add\n",
    "executor = submitit.AutoExecutor(folder=\"log_test\")\n",
    "# 3 * 2 = 6 tasks\n",
    "executor.update_parameters(mem_gb = 0.1,\n",
    "                           gpus_per_node = 1,\n",
    "                           tasks_per_node = 2,\n",
    "                           cpus_per_task = 1, \n",
    "                           nodes=1, \n",
    "                           timeout_min=2, \n",
    "                           slurm_partition=\"fvl\", \n",
    "                           slurm_qos='default')\n",
    "#executor.update_parameters(name=\"deit\")\n",
    "\n",
    "job = executor.submit(add, 5, 7)  # will compute add(5, 7)\n",
    "print(job.job_id)\n",
    "print(job.result())  # return [12, 12, 12, 12, 12, 12]"
   ]
  },
  {
   "cell_type": "code",
   "execution_count": 2,
   "metadata": {},
   "outputs": [
    {
     "name": "stdout",
     "output_type": "stream",
     "text": [
      "72745\n"
     ]
    },
    {
     "ename": "UncompletedJobError",
     "evalue": "Job 72745 (task: 0) with path /vhome/nishengding/projects/SimDA/log_test/72745_0_result.pkl\nhas not produced any output (state: FAILED)\nError stream produced:\n----------------------------------------\nsrun: error: fvl03: task 0: User defined signal 2\nsrun: Terminating StepId=72745.0\n",
     "output_type": "error",
     "traceback": [
      "\u001b[0;31m---------------------------------------------------------------------------\u001b[0m",
      "\u001b[0;31mUncompletedJobError\u001b[0m                       Traceback (most recent call last)",
      "Cell \u001b[0;32mIn[2], line 13\u001b[0m\n\u001b[1;32m     10\u001b[0m job \u001b[38;5;241m=\u001b[39m executor\u001b[38;5;241m.\u001b[39msubmit(add, \u001b[38;5;241m5\u001b[39m, \u001b[38;5;241m7\u001b[39m)  \u001b[38;5;66;03m# will compute add(5, 7)\u001b[39;00m\n\u001b[1;32m     11\u001b[0m \u001b[38;5;28mprint\u001b[39m(job\u001b[38;5;241m.\u001b[39mjob_id)  \u001b[38;5;66;03m# ID of your job\u001b[39;00m\n\u001b[0;32m---> 13\u001b[0m output \u001b[38;5;241m=\u001b[39m \u001b[43mjob\u001b[49m\u001b[38;5;241;43m.\u001b[39;49m\u001b[43mresult\u001b[49m\u001b[43m(\u001b[49m\u001b[43m)\u001b[49m  \u001b[38;5;66;03m# waits for completion and returns output\u001b[39;00m\n\u001b[1;32m     14\u001b[0m \u001b[38;5;28;01massert\u001b[39;00m output \u001b[38;5;241m==\u001b[39m \u001b[38;5;241m12\u001b[39m  \u001b[38;5;66;03m# 5 + 7 = 12...  your addition was computed in the cluster\u001b[39;00m\n",
      "File \u001b[0;32m~/anaconda3/envs/SimDA/lib/python3.10/site-packages/submitit/core/core.py:266\u001b[0m, in \u001b[0;36mJob.result\u001b[0;34m(self)\u001b[0m\n\u001b[1;32m    265\u001b[0m \u001b[38;5;28;01mdef\u001b[39;00m \u001b[38;5;21mresult\u001b[39m(\u001b[38;5;28mself\u001b[39m) \u001b[38;5;241m-\u001b[39m\u001b[38;5;241m>\u001b[39m R:\n\u001b[0;32m--> 266\u001b[0m     r \u001b[38;5;241m=\u001b[39m \u001b[38;5;28;43mself\u001b[39;49m\u001b[38;5;241;43m.\u001b[39;49m\u001b[43mresults\u001b[49m\u001b[43m(\u001b[49m\u001b[43m)\u001b[49m\n\u001b[1;32m    267\u001b[0m     \u001b[38;5;28;01massert\u001b[39;00m \u001b[38;5;129;01mnot\u001b[39;00m \u001b[38;5;28mself\u001b[39m\u001b[38;5;241m.\u001b[39m_sub_jobs, \u001b[38;5;124m\"\u001b[39m\u001b[38;5;124mYou should use `results()` if your job has subtasks.\u001b[39m\u001b[38;5;124m\"\u001b[39m\n\u001b[1;32m    268\u001b[0m     \u001b[38;5;28;01mreturn\u001b[39;00m r[\u001b[38;5;241m0\u001b[39m]\n",
      "File \u001b[0;32m~/anaconda3/envs/SimDA/lib/python3.10/site-packages/submitit/core/core.py:289\u001b[0m, in \u001b[0;36mJob.results\u001b[0;34m(self)\u001b[0m\n\u001b[1;32m    286\u001b[0m \u001b[38;5;28;01mif\u001b[39;00m \u001b[38;5;28mself\u001b[39m\u001b[38;5;241m.\u001b[39m_sub_jobs:\n\u001b[1;32m    287\u001b[0m     \u001b[38;5;28;01mreturn\u001b[39;00m [tp\u001b[38;5;241m.\u001b[39mcast(R, sub_job\u001b[38;5;241m.\u001b[39mresult()) \u001b[38;5;28;01mfor\u001b[39;00m sub_job \u001b[38;5;129;01min\u001b[39;00m \u001b[38;5;28mself\u001b[39m\u001b[38;5;241m.\u001b[39m_sub_jobs]\n\u001b[0;32m--> 289\u001b[0m outcome, result \u001b[38;5;241m=\u001b[39m \u001b[38;5;28;43mself\u001b[39;49m\u001b[38;5;241;43m.\u001b[39;49m\u001b[43m_get_outcome_and_result\u001b[49m\u001b[43m(\u001b[49m\u001b[43m)\u001b[49m\n\u001b[1;32m    290\u001b[0m \u001b[38;5;28;01mif\u001b[39;00m outcome \u001b[38;5;241m==\u001b[39m \u001b[38;5;124m\"\u001b[39m\u001b[38;5;124merror\u001b[39m\u001b[38;5;124m\"\u001b[39m:\n\u001b[1;32m    291\u001b[0m     job_exception \u001b[38;5;241m=\u001b[39m \u001b[38;5;28mself\u001b[39m\u001b[38;5;241m.\u001b[39mexception()\n",
      "File \u001b[0;32m~/anaconda3/envs/SimDA/lib/python3.10/site-packages/submitit/core/core.py:384\u001b[0m, in \u001b[0;36mJob._get_outcome_and_result\u001b[0;34m(self)\u001b[0m\n\u001b[1;32m    382\u001b[0m     \u001b[38;5;28;01melse\u001b[39;00m:\n\u001b[1;32m    383\u001b[0m         message\u001b[38;5;241m.\u001b[39mappend(\u001b[38;5;124mf\u001b[39m\u001b[38;5;124m\"\u001b[39m\u001b[38;5;124mNo output/error stream produced ! Check: \u001b[39m\u001b[38;5;132;01m{\u001b[39;00m\u001b[38;5;28mself\u001b[39m\u001b[38;5;241m.\u001b[39mpaths\u001b[38;5;241m.\u001b[39mstdout\u001b[38;5;132;01m}\u001b[39;00m\u001b[38;5;124m\"\u001b[39m)\n\u001b[0;32m--> 384\u001b[0m     \u001b[38;5;28;01mraise\u001b[39;00m utils\u001b[38;5;241m.\u001b[39mUncompletedJobError(\u001b[38;5;124m\"\u001b[39m\u001b[38;5;130;01m\\n\u001b[39;00m\u001b[38;5;124m\"\u001b[39m\u001b[38;5;241m.\u001b[39mjoin(message))\n\u001b[1;32m    385\u001b[0m \u001b[38;5;28;01mtry\u001b[39;00m:\n\u001b[1;32m    386\u001b[0m     output: tp\u001b[38;5;241m.\u001b[39mTuple[\u001b[38;5;28mstr\u001b[39m, tp\u001b[38;5;241m.\u001b[39mAny] \u001b[38;5;241m=\u001b[39m utils\u001b[38;5;241m.\u001b[39mpickle_load(\u001b[38;5;28mself\u001b[39m\u001b[38;5;241m.\u001b[39mpaths\u001b[38;5;241m.\u001b[39mresult_pickle)\n",
      "\u001b[0;31mUncompletedJobError\u001b[0m: Job 72745 (task: 0) with path /vhome/nishengding/projects/SimDA/log_test/72745_0_result.pkl\nhas not produced any output (state: FAILED)\nError stream produced:\n----------------------------------------\nsrun: error: fvl03: task 0: User defined signal 2\nsrun: Terminating StepId=72745.0\n"
     ]
    }
   ],
   "source": [
    "import submitit\n",
    "\n",
    "def add(a, b):\n",
    "    return a + b\n",
    "\n",
    "# executor is the submission interface (logs are dumped in the folder)\n",
    "executor = submitit.AutoExecutor(folder=\"log_test\")\n",
    "# set timeout in min, and partition for running the job\n",
    "executor.update_parameters(timeout_min=1, slurm_partition=\"fvl\")\n",
    "job = executor.submit(add, 5, 7)  # will compute add(5, 7)\n",
    "print(job.job_id)  # ID of your job\n",
    "\n",
    "output = job.result()  # waits for completion and returns output\n",
    "assert output == 12  # 5 + 7 = 12...  your addition was computed in the cluster"
   ]
  }
 ],
 "metadata": {
  "kernelspec": {
   "display_name": "SimDA",
   "language": "python",
   "name": "python3"
  },
  "language_info": {
   "codemirror_mode": {
    "name": "ipython",
    "version": 3
   },
   "file_extension": ".py",
   "mimetype": "text/x-python",
   "name": "python",
   "nbconvert_exporter": "python",
   "pygments_lexer": "ipython3",
   "version": "3.10.14"
  }
 },
 "nbformat": 4,
 "nbformat_minor": 2
}
