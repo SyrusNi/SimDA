{
 "cells": [
  {
   "cell_type": "code",
   "execution_count": 1,
   "metadata": {},
   "outputs": [
    {
     "name": "stderr",
     "output_type": "stream",
     "text": [
      "/vhome/nishengding/anaconda3/envs/SimDA/lib/python3.10/site-packages/tqdm/auto.py:21: TqdmWarning: IProgress not found. Please update jupyter and ipywidgets. See https://ipywidgets.readthedocs.io/en/stable/user_install.html\n",
      "  from .autonotebook import tqdm as notebook_tqdm\n",
      "/vhome/nishengding/anaconda3/envs/SimDA/lib/python3.10/site-packages/torchvision/io/image.py:13: UserWarning: Failed to load image Python extension: libtorch_cuda_cu.so: cannot open shared object file: No such file or directory\n",
      "  warn(f\"Failed to load image Python extension: {e}\")\n"
     ]
    }
   ],
   "source": [
    "from simda.pipelines.pipeline_simda import SimDAPipeline\n",
    "from simda.models.unet import UNet3DConditionModel\n",
    "from simda.util import save_videos_grid\n",
    "from omegaconf import OmegaConf\n",
    "import torch\n",
    "import argparse"
   ]
  },
  {
   "cell_type": "code",
   "execution_count": 5,
   "metadata": {},
   "outputs": [
    {
     "name": "stderr",
     "output_type": "stream",
     "text": [
      "/vhome/nishengding/anaconda3/envs/SimDA/lib/python3.10/site-packages/diffusers/modeling_utils.py:96: FutureWarning: You are using `torch.load` with `weights_only=False` (the current default value), which uses the default pickle module implicitly. It is possible to construct malicious pickle data which will execute arbitrary code during unpickling (See https://github.com/pytorch/pytorch/blob/main/SECURITY.md#untrusted-models for more details). In a future release, the default value for `weights_only` will be flipped to `True`. This limits the functions that could be executed during unpickling. Arbitrary objects will no longer be allowed to be loaded via this mode unless they are explicitly allowlisted by the user via `torch.serialization.add_safe_globals`. We recommend you start setting `weights_only=True` for any use case where you don't have full control of the loaded file. Please open an issue on GitHub for any issues related to this experimental feature.\n",
      "  return torch.load(checkpoint_file, map_location=\"cpu\")\n",
      "/vhome/nishengding/anaconda3/envs/SimDA/lib/python3.10/site-packages/transformers/tokenization_utils_base.py:1617: FutureWarning: `clean_up_tokenization_spaces` was not set. It will be set to `True` by default. This behavior will be deprecated in transformers v4.45, and will be then set to `False` by default. For more details check this issue: https://github.com/huggingface/transformers/issues/31884\n",
      "  warnings.warn(\n"
     ]
    }
   ],
   "source": [
    "config = OmegaConf.load('configs/car-turn.yaml')\n",
    "pretrained_model_path = config.pretrained_model_path\n",
    "my_model_path = config.output_dir\n",
    "unet = UNet3DConditionModel.from_pretrained(my_model_path, subfolder='unet', torch_dtype=torch.float16).to('cuda')\n",
    "pipe = SimDAPipeline.from_pretrained(pretrained_model_path, unet=unet, torch_dtype=torch.float16).to(\"cuda\")"
   ]
  },
  {
   "cell_type": "code",
   "execution_count": 6,
   "metadata": {},
   "outputs": [
    {
     "name": "stdout",
     "output_type": "stream",
     "text": [
      "down_blocks.0.attentions.0.transformer_blocks.0.adapter_s.D_fc2.weight\n",
      "down_blocks.0.attentions.0.transformer_blocks.0.adapter_s.D_fc2.bias\n",
      "down_blocks.0.attentions.0.transformer_blocks.0.adapter_ffn.D_fc2.weight\n",
      "down_blocks.0.attentions.0.transformer_blocks.0.adapter_ffn.D_fc2.bias\n",
      "down_blocks.0.attentions.1.transformer_blocks.0.adapter_s.D_fc2.weight\n",
      "down_blocks.0.attentions.1.transformer_blocks.0.adapter_s.D_fc2.bias\n",
      "down_blocks.0.attentions.1.transformer_blocks.0.adapter_ffn.D_fc2.weight\n",
      "down_blocks.0.attentions.1.transformer_blocks.0.adapter_ffn.D_fc2.bias\n",
      "down_blocks.0.temp_adapter.0.stadapt_up_1.weight\n",
      "down_blocks.0.temp_adapter.0.stadapt_up_1.bias\n",
      "down_blocks.0.temp_adapter.1.stadapt_up_1.weight\n",
      "down_blocks.0.temp_adapter.1.stadapt_up_1.bias\n",
      "down_blocks.0.conv_temps.0.tmp_conv.weight\n",
      "down_blocks.0.conv_temps.0.tmp_conv.bias\n",
      "down_blocks.0.conv_temps.1.tmp_conv.weight\n",
      "down_blocks.0.conv_temps.1.tmp_conv.bias\n",
      "down_blocks.1.attentions.0.transformer_blocks.0.adapter_s.D_fc2.weight\n",
      "down_blocks.1.attentions.0.transformer_blocks.0.adapter_s.D_fc2.bias\n",
      "down_blocks.1.attentions.0.transformer_blocks.0.adapter_ffn.D_fc2.weight\n",
      "down_blocks.1.attentions.0.transformer_blocks.0.adapter_ffn.D_fc2.bias\n",
      "down_blocks.1.attentions.1.transformer_blocks.0.adapter_s.D_fc2.weight\n",
      "down_blocks.1.attentions.1.transformer_blocks.0.adapter_s.D_fc2.bias\n",
      "down_blocks.1.attentions.1.transformer_blocks.0.adapter_ffn.D_fc2.weight\n",
      "down_blocks.1.attentions.1.transformer_blocks.0.adapter_ffn.D_fc2.bias\n",
      "down_blocks.1.temp_adapter.0.stadapt_up_1.weight\n",
      "down_blocks.1.temp_adapter.0.stadapt_up_1.bias\n",
      "down_blocks.1.temp_adapter.1.stadapt_up_1.weight\n",
      "down_blocks.1.temp_adapter.1.stadapt_up_1.bias\n",
      "down_blocks.1.conv_temps.0.tmp_conv.weight\n",
      "down_blocks.1.conv_temps.0.tmp_conv.bias\n",
      "down_blocks.1.conv_temps.1.tmp_conv.weight\n",
      "down_blocks.1.conv_temps.1.tmp_conv.bias\n",
      "down_blocks.2.attentions.0.transformer_blocks.0.adapter_s.D_fc2.weight\n",
      "down_blocks.2.attentions.0.transformer_blocks.0.adapter_s.D_fc2.bias\n",
      "down_blocks.2.attentions.0.transformer_blocks.0.adapter_ffn.D_fc2.weight\n",
      "down_blocks.2.attentions.0.transformer_blocks.0.adapter_ffn.D_fc2.bias\n",
      "down_blocks.2.attentions.1.transformer_blocks.0.adapter_s.D_fc2.weight\n",
      "down_blocks.2.attentions.1.transformer_blocks.0.adapter_s.D_fc2.bias\n",
      "down_blocks.2.attentions.1.transformer_blocks.0.adapter_ffn.D_fc2.weight\n",
      "down_blocks.2.attentions.1.transformer_blocks.0.adapter_ffn.D_fc2.bias\n",
      "down_blocks.2.temp_adapter.0.stadapt_up_1.weight\n",
      "down_blocks.2.temp_adapter.0.stadapt_up_1.bias\n",
      "down_blocks.2.temp_adapter.1.stadapt_up_1.weight\n",
      "down_blocks.2.temp_adapter.1.stadapt_up_1.bias\n",
      "down_blocks.2.conv_temps.0.tmp_conv.weight\n",
      "down_blocks.2.conv_temps.0.tmp_conv.bias\n",
      "down_blocks.2.conv_temps.1.tmp_conv.weight\n",
      "down_blocks.2.conv_temps.1.tmp_conv.bias\n",
      "up_blocks.1.temp_adapter.0.stadapt_up_1.weight\n",
      "up_blocks.1.temp_adapter.0.stadapt_up_1.bias\n",
      "up_blocks.1.temp_adapter.1.stadapt_up_1.weight\n",
      "up_blocks.1.temp_adapter.1.stadapt_up_1.bias\n",
      "up_blocks.1.temp_adapter.2.stadapt_up_1.weight\n",
      "up_blocks.1.temp_adapter.2.stadapt_up_1.bias\n",
      "up_blocks.2.temp_adapter.0.stadapt_up_1.weight\n",
      "up_blocks.2.temp_adapter.0.stadapt_up_1.bias\n",
      "up_blocks.2.temp_adapter.1.stadapt_up_1.weight\n",
      "up_blocks.2.temp_adapter.1.stadapt_up_1.bias\n",
      "up_blocks.2.temp_adapter.2.stadapt_up_1.weight\n",
      "up_blocks.2.temp_adapter.2.stadapt_up_1.bias\n",
      "up_blocks.3.temp_adapter.0.stadapt_up_1.weight\n",
      "up_blocks.3.temp_adapter.0.stadapt_up_1.bias\n",
      "up_blocks.3.temp_adapter.1.stadapt_up_1.weight\n",
      "up_blocks.3.temp_adapter.1.stadapt_up_1.bias\n",
      "up_blocks.3.temp_adapter.2.stadapt_up_1.weight\n",
      "up_blocks.3.temp_adapter.2.stadapt_up_1.bias\n"
     ]
    }
   ],
   "source": [
    "for name in unet.state_dict():\n",
    "    param = unet.state_dict()[name]\n",
    "    if torch.all(param == 0):\n",
    "        print(name)"
   ]
  }
 ],
 "metadata": {
  "kernelspec": {
   "display_name": "SimDA",
   "language": "python",
   "name": "python3"
  },
  "language_info": {
   "codemirror_mode": {
    "name": "ipython",
    "version": 3
   },
   "file_extension": ".py",
   "mimetype": "text/x-python",
   "name": "python",
   "nbconvert_exporter": "python",
   "pygments_lexer": "ipython3",
   "version": "3.10.14"
  }
 },
 "nbformat": 4,
 "nbformat_minor": 2
}
